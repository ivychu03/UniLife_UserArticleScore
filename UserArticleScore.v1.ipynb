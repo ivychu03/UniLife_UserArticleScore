{
 "cells": [
  {
   "cell_type": "markdown",
   "metadata": {},
   "source": [
    "\n",
    "   ##### ifRead : read only,\n",
    "   ##### Mean ( if >0) \n",
    "   ##### {\n",
    "   #####  readtime : 7/allUsersReadMean*userReadTime\n",
    "   ##### duration :  7/math.log(allUsersDurationMean)*math.log(userDuration)\n",
    "   ##### save: 7 or ignore,\n",
    "   ##### share:  if share : 7~8 : 0\n",
    "   ##### comment: if comment : 7~8 : 0\n",
    "}"
   ]
  },
  {
   "cell_type": "code",
   "execution_count": 1,
   "metadata": {},
   "outputs": [],
   "source": [
    "import numpy as np\n",
    "import pandas as pd\n",
    "import math"
   ]
  },
  {
   "cell_type": "code",
   "execution_count": 2,
   "metadata": {},
   "outputs": [],
   "source": [
    "def read(userReadTime, allUsersReadMean):\n",
    "    score = 0\n",
    "    if userReadTime >= allUsersReadMean:\n",
    "        score = 7\n",
    "    else:\n",
    "        score = 7/allUsersReadMean*userReadTime\n",
    "    \n",
    "    return score"
   ]
  },
  {
   "cell_type": "code",
   "execution_count": 3,
   "metadata": {},
   "outputs": [],
   "source": [
    "def duration(userDuration, allUsersDurationMean):\n",
    "    score = 0\n",
    "    if userDuration>= allUsersDurationMean:\n",
    "        score = 7\n",
    "    else:\n",
    "        score = 7/math.log(allUsersDurationMean)*math.log(userDuration)\n",
    "    \n",
    "    return score"
   ]
  },
  {
   "cell_type": "code",
   "execution_count": 4,
   "metadata": {},
   "outputs": [],
   "source": [
    "def save(ifSave):\n",
    "    if ifSave:\n",
    "        score = 7\n",
    "    else:\n",
    "        score = 0\n",
    "    return score"
   ]
  },
  {
   "cell_type": "code",
   "execution_count": 5,
   "metadata": {},
   "outputs": [],
   "source": [
    "def share(userShareTime, allUsersShareMean):\n",
    "    score = 0\n",
    "    if allUsersShareMean >0:\n",
    "        if userShareTime>= allUsersShareMean:\n",
    "            score = 8\n",
    "        elif userShareTime >0:\n",
    "            score = 7 + userShareTime/allUsersShareMean\n",
    "    else:\n",
    "        if userShareTime> allUsersShareMean:\n",
    "            score = 8\n",
    "    return score"
   ]
  },
  {
   "cell_type": "code",
   "execution_count": 6,
   "metadata": {},
   "outputs": [],
   "source": [
    "def comment(userCommentTime, allUsersCommentMean):\n",
    "    score = 0\n",
    "    if allUsersCommentMean >0:\n",
    "        if userCommentTime>= allUsersCommentMean:\n",
    "            score = 8\n",
    "        elif userCommentTime >0:\n",
    "            score = 7 + userCommentTime/allUsersCommentMean\n",
    "    else:\n",
    "        if userCommentTime> allUsersCommentMean:\n",
    "            score = 8\n",
    "    return score"
   ]
  },
  {
   "cell_type": "code",
   "execution_count": 7,
   "metadata": {},
   "outputs": [],
   "source": [
    "def userArticleScore(userArray):\n",
    "    ifRead = userArray[0]\n",
    "    \n",
    "    if ifRead == True:\n",
    "        userReadTime = userArray[1]\n",
    "        userDuration = userArray[2]\n",
    "        ifSave = userArray[3]\n",
    "        userShareTime = userArray[4]\n",
    "        userCommentTime = userArray[5]\n",
    "        \n",
    "        allUsersReadMean = userArray[6]\n",
    "        allUsersDurationMean = userArray[7]\n",
    "        allUsersShareMean = userArray[8]\n",
    "        allUsersCommentMean = userArray[9]\n",
    "    \n",
    "\n",
    "        scoreArray = []\n",
    "        scoreArray.append(read(userReadTime, allUsersReadMean))\n",
    "        scoreArray.append(duration(userDuration ,allUsersDurationMean))\n",
    "        if userShareTime > 0:\n",
    "            scoreArray.append(share(userShareTime,allUsersShareMean))\n",
    "        if userCommentTime > 0:\n",
    "            scoreArray.append(comment(userCommentTime ,allUsersCommentMean))\n",
    "        if ifSave:\n",
    "            scoreArray.append(7)\n",
    "\n",
    "        print(scoreArray)\n",
    "        print(np.mean(scoreArray))\n",
    "        \n",
    "        if np.mean(scoreArray) >7:\n",
    "            return 7\n",
    "        else:\n",
    "            return np.mean(scoreArray)\n"
   ]
  },
  {
   "cell_type": "code",
   "execution_count": 8,
   "metadata": {},
   "outputs": [],
   "source": [
    "# [ifRead, readTimes, duration, ifSave,  shareTimes, commentTimes, \n",
    "# allUsersReadMean, allUsersDurationMean, allUsersShareMean, allUsersCommentMean]\n",
    "\n",
    "userArray = [True,    1, 5, False, 2, 0,     3, 10, 1, 0]\n"
   ]
  },
  {
   "cell_type": "code",
   "execution_count": 9,
   "metadata": {},
   "outputs": [
    {
     "name": "stdout",
     "output_type": "stream",
     "text": [
      "[2.3333333333333335, 4.892790030352131, 8]\n",
      "5.075374454561822\n"
     ]
    },
    {
     "data": {
      "text/plain": [
       "5.075374454561822"
      ]
     },
     "execution_count": 9,
     "metadata": {},
     "output_type": "execute_result"
    }
   ],
   "source": [
    "userArticleScore(userArray)"
   ]
  },
  {
   "cell_type": "code",
   "execution_count": null,
   "metadata": {},
   "outputs": [],
   "source": []
  }
 ],
 "metadata": {
  "kernelspec": {
   "display_name": "Python 3",
   "language": "python",
   "name": "python3"
  },
  "language_info": {
   "codemirror_mode": {
    "name": "ipython",
    "version": 3
   },
   "file_extension": ".py",
   "mimetype": "text/x-python",
   "name": "python",
   "nbconvert_exporter": "python",
   "pygments_lexer": "ipython3",
   "version": "3.7.4"
  }
 },
 "nbformat": 4,
 "nbformat_minor": 2
}
